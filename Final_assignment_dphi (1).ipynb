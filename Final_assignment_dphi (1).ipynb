{
 "cells": [
  {
   "cell_type": "code",
   "execution_count": 650,
   "metadata": {},
   "outputs": [],
   "source": [
    "import pandas as pd\n",
    "import numpy as np\n",
    "import statsmodels.api as sm\n",
    "import scipy.stats as st\n",
    "import matplotlib.pyplot as plt\n",
    "import seaborn as sns\n",
    "from sklearn.metrics import confusion_matrix\n",
    "import matplotlib.mlab as mlab\n",
    "%matplotlib inline"
   ]
  },
  {
   "cell_type": "code",
   "execution_count": 651,
   "metadata": {},
   "outputs": [],
   "source": [
    "url = 'https://raw.githubusercontent.com/dphi-official/Datasets/master/pharma_data/Training_set_begs.csv'\n",
    "pharma_data= pd.read_csv(url)"
   ]
  },
  {
   "cell_type": "code",
   "execution_count": 652,
   "metadata": {},
   "outputs": [
    {
     "data": {
      "text/html": [
       "<div>\n",
       "<style scoped>\n",
       "    .dataframe tbody tr th:only-of-type {\n",
       "        vertical-align: middle;\n",
       "    }\n",
       "\n",
       "    .dataframe tbody tr th {\n",
       "        vertical-align: top;\n",
       "    }\n",
       "\n",
       "    .dataframe thead th {\n",
       "        text-align: right;\n",
       "    }\n",
       "</style>\n",
       "<table border=\"1\" class=\"dataframe\">\n",
       "  <thead>\n",
       "    <tr style=\"text-align: right;\">\n",
       "      <th></th>\n",
       "      <th>ID_Patient_Care_Situation</th>\n",
       "      <th>Diagnosed_Condition</th>\n",
       "      <th>Patient_ID</th>\n",
       "      <th>Treated_with_drugs</th>\n",
       "      <th>Patient_Age</th>\n",
       "      <th>Patient_Body_Mass_Index</th>\n",
       "      <th>Patient_Smoker</th>\n",
       "      <th>Patient_Rural_Urban</th>\n",
       "      <th>Patient_mental_condition</th>\n",
       "      <th>A</th>\n",
       "      <th>B</th>\n",
       "      <th>C</th>\n",
       "      <th>D</th>\n",
       "      <th>E</th>\n",
       "      <th>F</th>\n",
       "      <th>Z</th>\n",
       "      <th>Number_of_prev_cond</th>\n",
       "      <th>Survived_1_year</th>\n",
       "    </tr>\n",
       "  </thead>\n",
       "  <tbody>\n",
       "    <tr>\n",
       "      <th>0</th>\n",
       "      <td>22374</td>\n",
       "      <td>8</td>\n",
       "      <td>3333</td>\n",
       "      <td>DX6</td>\n",
       "      <td>56</td>\n",
       "      <td>18.479385</td>\n",
       "      <td>YES</td>\n",
       "      <td>URBAN</td>\n",
       "      <td>Stable</td>\n",
       "      <td>1.0</td>\n",
       "      <td>0.0</td>\n",
       "      <td>0.0</td>\n",
       "      <td>0.0</td>\n",
       "      <td>1.0</td>\n",
       "      <td>0.0</td>\n",
       "      <td>0.0</td>\n",
       "      <td>2.0</td>\n",
       "      <td>0</td>\n",
       "    </tr>\n",
       "    <tr>\n",
       "      <th>1</th>\n",
       "      <td>18164</td>\n",
       "      <td>5</td>\n",
       "      <td>5740</td>\n",
       "      <td>DX2</td>\n",
       "      <td>36</td>\n",
       "      <td>22.945566</td>\n",
       "      <td>YES</td>\n",
       "      <td>RURAL</td>\n",
       "      <td>Stable</td>\n",
       "      <td>1.0</td>\n",
       "      <td>0.0</td>\n",
       "      <td>0.0</td>\n",
       "      <td>0.0</td>\n",
       "      <td>0.0</td>\n",
       "      <td>0.0</td>\n",
       "      <td>0.0</td>\n",
       "      <td>1.0</td>\n",
       "      <td>1</td>\n",
       "    </tr>\n",
       "    <tr>\n",
       "      <th>2</th>\n",
       "      <td>6283</td>\n",
       "      <td>23</td>\n",
       "      <td>10446</td>\n",
       "      <td>DX6</td>\n",
       "      <td>48</td>\n",
       "      <td>27.510027</td>\n",
       "      <td>YES</td>\n",
       "      <td>RURAL</td>\n",
       "      <td>Stable</td>\n",
       "      <td>1.0</td>\n",
       "      <td>0.0</td>\n",
       "      <td>0.0</td>\n",
       "      <td>0.0</td>\n",
       "      <td>0.0</td>\n",
       "      <td>0.0</td>\n",
       "      <td>0.0</td>\n",
       "      <td>1.0</td>\n",
       "      <td>0</td>\n",
       "    </tr>\n",
       "    <tr>\n",
       "      <th>3</th>\n",
       "      <td>5339</td>\n",
       "      <td>51</td>\n",
       "      <td>12011</td>\n",
       "      <td>DX1</td>\n",
       "      <td>5</td>\n",
       "      <td>19.130976</td>\n",
       "      <td>NO</td>\n",
       "      <td>URBAN</td>\n",
       "      <td>Stable</td>\n",
       "      <td>1.0</td>\n",
       "      <td>0.0</td>\n",
       "      <td>0.0</td>\n",
       "      <td>0.0</td>\n",
       "      <td>0.0</td>\n",
       "      <td>0.0</td>\n",
       "      <td>0.0</td>\n",
       "      <td>1.0</td>\n",
       "      <td>1</td>\n",
       "    </tr>\n",
       "    <tr>\n",
       "      <th>4</th>\n",
       "      <td>33012</td>\n",
       "      <td>0</td>\n",
       "      <td>12513</td>\n",
       "      <td>NaN</td>\n",
       "      <td>128</td>\n",
       "      <td>1.348400</td>\n",
       "      <td>Cannot say</td>\n",
       "      <td>RURAL</td>\n",
       "      <td>Stable</td>\n",
       "      <td>0.0</td>\n",
       "      <td>0.0</td>\n",
       "      <td>0.0</td>\n",
       "      <td>0.0</td>\n",
       "      <td>0.0</td>\n",
       "      <td>0.0</td>\n",
       "      <td>1.0</td>\n",
       "      <td>1.0</td>\n",
       "      <td>1</td>\n",
       "    </tr>\n",
       "  </tbody>\n",
       "</table>\n",
       "</div>"
      ],
      "text/plain": [
       "   ID_Patient_Care_Situation  Diagnosed_Condition  Patient_ID  \\\n",
       "0                      22374                    8        3333   \n",
       "1                      18164                    5        5740   \n",
       "2                       6283                   23       10446   \n",
       "3                       5339                   51       12011   \n",
       "4                      33012                    0       12513   \n",
       "\n",
       "  Treated_with_drugs  Patient_Age  Patient_Body_Mass_Index Patient_Smoker  \\\n",
       "0                DX6           56                18.479385            YES   \n",
       "1               DX2            36                22.945566            YES   \n",
       "2                DX6           48                27.510027            YES   \n",
       "3               DX1             5                19.130976             NO   \n",
       "4                NaN          128                 1.348400     Cannot say   \n",
       "\n",
       "  Patient_Rural_Urban Patient_mental_condition    A    B    C    D    E    F  \\\n",
       "0               URBAN                   Stable  1.0  0.0  0.0  0.0  1.0  0.0   \n",
       "1               RURAL                   Stable  1.0  0.0  0.0  0.0  0.0  0.0   \n",
       "2               RURAL                   Stable  1.0  0.0  0.0  0.0  0.0  0.0   \n",
       "3               URBAN                   Stable  1.0  0.0  0.0  0.0  0.0  0.0   \n",
       "4               RURAL                   Stable  0.0  0.0  0.0  0.0  0.0  0.0   \n",
       "\n",
       "     Z  Number_of_prev_cond  Survived_1_year  \n",
       "0  0.0                  2.0                0  \n",
       "1  0.0                  1.0                1  \n",
       "2  0.0                  1.0                0  \n",
       "3  0.0                  1.0                1  \n",
       "4  1.0                  1.0                1  "
      ]
     },
     "execution_count": 652,
     "metadata": {},
     "output_type": "execute_result"
    }
   ],
   "source": [
    "pharma_data.head()"
   ]
  },
  {
   "cell_type": "code",
   "execution_count": 653,
   "metadata": {},
   "outputs": [
    {
     "data": {
      "text/plain": [
       "ID_Patient_Care_Situation       0\n",
       "Diagnosed_Condition             0\n",
       "Patient_ID                      0\n",
       "Treated_with_drugs             13\n",
       "Patient_Age                     0\n",
       "Patient_Body_Mass_Index         0\n",
       "Patient_Smoker                  0\n",
       "Patient_Rural_Urban             0\n",
       "Patient_mental_condition        0\n",
       "A                            1235\n",
       "B                            1235\n",
       "C                            1235\n",
       "D                            1235\n",
       "E                            1235\n",
       "F                            1235\n",
       "Z                            1235\n",
       "Number_of_prev_cond          1235\n",
       "Survived_1_year                 0\n",
       "dtype: int64"
      ]
     },
     "execution_count": 653,
     "metadata": {},
     "output_type": "execute_result"
    }
   ],
   "source": [
    "pharma_data.isnull().sum()"
   ]
  },
  {
   "cell_type": "code",
   "execution_count": 654,
   "metadata": {},
   "outputs": [],
   "source": [
    "pharma_data['A']= pharma_data['A'].fillna(pharma_data['A'].median())"
   ]
  },
  {
   "cell_type": "code",
   "execution_count": 655,
   "metadata": {},
   "outputs": [],
   "source": [
    "pharma_data['B']= pharma_data['B'].fillna(pharma_data['B'].median())"
   ]
  },
  {
   "cell_type": "code",
   "execution_count": 656,
   "metadata": {},
   "outputs": [],
   "source": [
    "pharma_data['C']= pharma_data['C'].fillna(pharma_data['C'].median())"
   ]
  },
  {
   "cell_type": "code",
   "execution_count": 657,
   "metadata": {},
   "outputs": [],
   "source": [
    "pharma_data['D']= pharma_data['D'].fillna(pharma_data['D'].median())"
   ]
  },
  {
   "cell_type": "code",
   "execution_count": 658,
   "metadata": {},
   "outputs": [],
   "source": [
    "pharma_data['E']= pharma_data['E'].fillna(pharma_data['E'].median())"
   ]
  },
  {
   "cell_type": "code",
   "execution_count": 659,
   "metadata": {},
   "outputs": [],
   "source": [
    "pharma_data['F']= pharma_data['F'].fillna(pharma_data['F'].median())"
   ]
  },
  {
   "cell_type": "code",
   "execution_count": 660,
   "metadata": {},
   "outputs": [],
   "source": [
    "pharma_data['Z']= pharma_data['Z'].fillna(pharma_data['Z'].median())"
   ]
  },
  {
   "cell_type": "code",
   "execution_count": 661,
   "metadata": {},
   "outputs": [],
   "source": [
    "pharma_data['Number_of_prev_cond']= pharma_data['Number_of_prev_cond'].fillna(pharma_data['Number_of_prev_cond'].median())"
   ]
  },
  {
   "cell_type": "code",
   "execution_count": 662,
   "metadata": {},
   "outputs": [
    {
     "data": {
      "text/html": [
       "<div>\n",
       "<style scoped>\n",
       "    .dataframe tbody tr th:only-of-type {\n",
       "        vertical-align: middle;\n",
       "    }\n",
       "\n",
       "    .dataframe tbody tr th {\n",
       "        vertical-align: top;\n",
       "    }\n",
       "\n",
       "    .dataframe thead th {\n",
       "        text-align: right;\n",
       "    }\n",
       "</style>\n",
       "<table border=\"1\" class=\"dataframe\">\n",
       "  <thead>\n",
       "    <tr style=\"text-align: right;\">\n",
       "      <th></th>\n",
       "      <th>ID_Patient_Care_Situation</th>\n",
       "      <th>Diagnosed_Condition</th>\n",
       "      <th>Patient_ID</th>\n",
       "      <th>Patient_Age</th>\n",
       "      <th>Patient_Body_Mass_Index</th>\n",
       "      <th>A</th>\n",
       "      <th>B</th>\n",
       "      <th>C</th>\n",
       "      <th>D</th>\n",
       "      <th>E</th>\n",
       "      <th>F</th>\n",
       "      <th>Z</th>\n",
       "      <th>Number_of_prev_cond</th>\n",
       "      <th>Survived_1_year</th>\n",
       "    </tr>\n",
       "  </thead>\n",
       "  <tbody>\n",
       "    <tr>\n",
       "      <th>count</th>\n",
       "      <td>23097.000000</td>\n",
       "      <td>23097.000000</td>\n",
       "      <td>23097.000000</td>\n",
       "      <td>23097.000000</td>\n",
       "      <td>23097.000000</td>\n",
       "      <td>23097.000000</td>\n",
       "      <td>23097.000000</td>\n",
       "      <td>23097.000000</td>\n",
       "      <td>23097.000000</td>\n",
       "      <td>23097.000000</td>\n",
       "      <td>23097.000000</td>\n",
       "      <td>23097.000000</td>\n",
       "      <td>23097.000000</td>\n",
       "      <td>23097.000000</td>\n",
       "    </tr>\n",
       "    <tr>\n",
       "      <th>mean</th>\n",
       "      <td>16545.712041</td>\n",
       "      <td>26.413127</td>\n",
       "      <td>6261.280772</td>\n",
       "      <td>33.209768</td>\n",
       "      <td>23.454820</td>\n",
       "      <td>0.903364</td>\n",
       "      <td>0.129064</td>\n",
       "      <td>0.175174</td>\n",
       "      <td>0.079144</td>\n",
       "      <td>0.372213</td>\n",
       "      <td>0.050829</td>\n",
       "      <td>0.000563</td>\n",
       "      <td>1.763822</td>\n",
       "      <td>0.632247</td>\n",
       "    </tr>\n",
       "    <tr>\n",
       "      <th>std</th>\n",
       "      <td>9532.263503</td>\n",
       "      <td>15.030865</td>\n",
       "      <td>3595.990620</td>\n",
       "      <td>19.549882</td>\n",
       "      <td>3.807661</td>\n",
       "      <td>0.295468</td>\n",
       "      <td>0.335278</td>\n",
       "      <td>0.380124</td>\n",
       "      <td>0.269970</td>\n",
       "      <td>0.483405</td>\n",
       "      <td>0.219653</td>\n",
       "      <td>0.023718</td>\n",
       "      <td>0.751533</td>\n",
       "      <td>0.482204</td>\n",
       "    </tr>\n",
       "    <tr>\n",
       "      <th>min</th>\n",
       "      <td>2.000000</td>\n",
       "      <td>0.000000</td>\n",
       "      <td>1.000000</td>\n",
       "      <td>0.000000</td>\n",
       "      <td>1.089300</td>\n",
       "      <td>0.000000</td>\n",
       "      <td>0.000000</td>\n",
       "      <td>0.000000</td>\n",
       "      <td>0.000000</td>\n",
       "      <td>0.000000</td>\n",
       "      <td>0.000000</td>\n",
       "      <td>0.000000</td>\n",
       "      <td>1.000000</td>\n",
       "      <td>0.000000</td>\n",
       "    </tr>\n",
       "    <tr>\n",
       "      <th>25%</th>\n",
       "      <td>8280.000000</td>\n",
       "      <td>13.000000</td>\n",
       "      <td>3181.000000</td>\n",
       "      <td>16.000000</td>\n",
       "      <td>20.205550</td>\n",
       "      <td>1.000000</td>\n",
       "      <td>0.000000</td>\n",
       "      <td>0.000000</td>\n",
       "      <td>0.000000</td>\n",
       "      <td>0.000000</td>\n",
       "      <td>0.000000</td>\n",
       "      <td>0.000000</td>\n",
       "      <td>1.000000</td>\n",
       "      <td>0.000000</td>\n",
       "    </tr>\n",
       "    <tr>\n",
       "      <th>50%</th>\n",
       "      <td>16597.000000</td>\n",
       "      <td>26.000000</td>\n",
       "      <td>6242.000000</td>\n",
       "      <td>33.000000</td>\n",
       "      <td>23.386199</td>\n",
       "      <td>1.000000</td>\n",
       "      <td>0.000000</td>\n",
       "      <td>0.000000</td>\n",
       "      <td>0.000000</td>\n",
       "      <td>0.000000</td>\n",
       "      <td>0.000000</td>\n",
       "      <td>0.000000</td>\n",
       "      <td>2.000000</td>\n",
       "      <td>1.000000</td>\n",
       "    </tr>\n",
       "    <tr>\n",
       "      <th>75%</th>\n",
       "      <td>24825.000000</td>\n",
       "      <td>39.000000</td>\n",
       "      <td>9363.000000</td>\n",
       "      <td>50.000000</td>\n",
       "      <td>26.788154</td>\n",
       "      <td>1.000000</td>\n",
       "      <td>0.000000</td>\n",
       "      <td>0.000000</td>\n",
       "      <td>0.000000</td>\n",
       "      <td>1.000000</td>\n",
       "      <td>0.000000</td>\n",
       "      <td>0.000000</td>\n",
       "      <td>2.000000</td>\n",
       "      <td>1.000000</td>\n",
       "    </tr>\n",
       "    <tr>\n",
       "      <th>max</th>\n",
       "      <td>33014.000000</td>\n",
       "      <td>52.000000</td>\n",
       "      <td>12515.000000</td>\n",
       "      <td>149.000000</td>\n",
       "      <td>29.999579</td>\n",
       "      <td>1.000000</td>\n",
       "      <td>1.000000</td>\n",
       "      <td>1.000000</td>\n",
       "      <td>1.000000</td>\n",
       "      <td>1.000000</td>\n",
       "      <td>1.000000</td>\n",
       "      <td>1.000000</td>\n",
       "      <td>5.000000</td>\n",
       "      <td>1.000000</td>\n",
       "    </tr>\n",
       "  </tbody>\n",
       "</table>\n",
       "</div>"
      ],
      "text/plain": [
       "       ID_Patient_Care_Situation  Diagnosed_Condition    Patient_ID  \\\n",
       "count               23097.000000         23097.000000  23097.000000   \n",
       "mean                16545.712041            26.413127   6261.280772   \n",
       "std                  9532.263503            15.030865   3595.990620   \n",
       "min                     2.000000             0.000000      1.000000   \n",
       "25%                  8280.000000            13.000000   3181.000000   \n",
       "50%                 16597.000000            26.000000   6242.000000   \n",
       "75%                 24825.000000            39.000000   9363.000000   \n",
       "max                 33014.000000            52.000000  12515.000000   \n",
       "\n",
       "        Patient_Age  Patient_Body_Mass_Index             A             B  \\\n",
       "count  23097.000000             23097.000000  23097.000000  23097.000000   \n",
       "mean      33.209768                23.454820      0.903364      0.129064   \n",
       "std       19.549882                 3.807661      0.295468      0.335278   \n",
       "min        0.000000                 1.089300      0.000000      0.000000   \n",
       "25%       16.000000                20.205550      1.000000      0.000000   \n",
       "50%       33.000000                23.386199      1.000000      0.000000   \n",
       "75%       50.000000                26.788154      1.000000      0.000000   \n",
       "max      149.000000                29.999579      1.000000      1.000000   \n",
       "\n",
       "                  C             D             E             F             Z  \\\n",
       "count  23097.000000  23097.000000  23097.000000  23097.000000  23097.000000   \n",
       "mean       0.175174      0.079144      0.372213      0.050829      0.000563   \n",
       "std        0.380124      0.269970      0.483405      0.219653      0.023718   \n",
       "min        0.000000      0.000000      0.000000      0.000000      0.000000   \n",
       "25%        0.000000      0.000000      0.000000      0.000000      0.000000   \n",
       "50%        0.000000      0.000000      0.000000      0.000000      0.000000   \n",
       "75%        0.000000      0.000000      1.000000      0.000000      0.000000   \n",
       "max        1.000000      1.000000      1.000000      1.000000      1.000000   \n",
       "\n",
       "       Number_of_prev_cond  Survived_1_year  \n",
       "count         23097.000000     23097.000000  \n",
       "mean              1.763822         0.632247  \n",
       "std               0.751533         0.482204  \n",
       "min               1.000000         0.000000  \n",
       "25%               1.000000         0.000000  \n",
       "50%               2.000000         1.000000  \n",
       "75%               2.000000         1.000000  \n",
       "max               5.000000         1.000000  "
      ]
     },
     "execution_count": 662,
     "metadata": {},
     "output_type": "execute_result"
    }
   ],
   "source": [
    "pharma_data.describe()"
   ]
  },
  {
   "cell_type": "markdown",
   "metadata": {},
   "source": [
    "# EDA"
   ]
  },
  {
   "cell_type": "code",
   "execution_count": 663,
   "metadata": {},
   "outputs": [
    {
     "data": {
      "text/plain": [
       "1    14603\n",
       "0     8494\n",
       "Name: Survived_1_year, dtype: int64"
      ]
     },
     "execution_count": 663,
     "metadata": {},
     "output_type": "execute_result"
    }
   ],
   "source": [
    "pharma_data.Survived_1_year.value_counts()"
   ]
  },
  {
   "cell_type": "code",
   "execution_count": 664,
   "metadata": {},
   "outputs": [
    {
     "data": {
      "text/plain": [
       "<matplotlib.axes._subplots.AxesSubplot at 0x159f6c23160>"
      ]
     },
     "execution_count": 664,
     "metadata": {},
     "output_type": "execute_result"
    },
    {
     "data": {
      "image/png": "[encoded data removed]",
      "text/plain": [
       "<Figure size 432x288 with 1 Axes>"
      ]
     },
     "metadata": {
      "needs_background": "light"
     },
     "output_type": "display_data"
    }
   ],
   "source": [
    "sns.countplot(x='Survived_1_year',data=pharma_data)"
   ]
  },
  {
   "cell_type": "code",
   "execution_count": 665,
   "metadata": {},
   "outputs": [
    {
     "data": {
      "text/html": [
       "<div>\n",
       "<style scoped>\n",
       "    .dataframe tbody tr th:only-of-type {\n",
       "        vertical-align: middle;\n",
       "    }\n",
       "\n",
       "    .dataframe tbody tr th {\n",
       "        vertical-align: top;\n",
       "    }\n",
       "\n",
       "    .dataframe thead th {\n",
       "        text-align: right;\n",
       "    }\n",
       "</style>\n",
       "<table border=\"1\" class=\"dataframe\">\n",
       "  <thead>\n",
       "    <tr style=\"text-align: right;\">\n",
       "      <th></th>\n",
       "      <th>ID_Patient_Care_Situation</th>\n",
       "      <th>Diagnosed_Condition</th>\n",
       "      <th>Patient_ID</th>\n",
       "      <th>Patient_Age</th>\n",
       "      <th>Patient_Body_Mass_Index</th>\n",
       "      <th>A</th>\n",
       "      <th>B</th>\n",
       "      <th>C</th>\n",
       "      <th>D</th>\n",
       "      <th>E</th>\n",
       "      <th>F</th>\n",
       "      <th>Z</th>\n",
       "      <th>Number_of_prev_cond</th>\n",
       "      <th>Survived_1_year</th>\n",
       "    </tr>\n",
       "  </thead>\n",
       "  <tbody>\n",
       "    <tr>\n",
       "      <th>count</th>\n",
       "      <td>23097.000000</td>\n",
       "      <td>23097.000000</td>\n",
       "      <td>23097.000000</td>\n",
       "      <td>23097.000000</td>\n",
       "      <td>23097.000000</td>\n",
       "      <td>23097.000000</td>\n",
       "      <td>23097.000000</td>\n",
       "      <td>23097.000000</td>\n",
       "      <td>23097.000000</td>\n",
       "      <td>23097.000000</td>\n",
       "      <td>23097.000000</td>\n",
       "      <td>23097.000000</td>\n",
       "      <td>23097.000000</td>\n",
       "      <td>23097.000000</td>\n",
       "    </tr>\n",
       "    <tr>\n",
       "      <th>mean</th>\n",
       "      <td>16545.712041</td>\n",
       "      <td>26.413127</td>\n",
       "      <td>6261.280772</td>\n",
       "      <td>33.209768</td>\n",
       "      <td>23.454820</td>\n",
       "      <td>0.903364</td>\n",
       "      <td>0.129064</td>\n",
       "      <td>0.175174</td>\n",
       "      <td>0.079144</td>\n",
       "      <td>0.372213</td>\n",
       "      <td>0.050829</td>\n",
       "      <td>0.000563</td>\n",
       "      <td>1.763822</td>\n",
       "      <td>0.632247</td>\n",
       "    </tr>\n",
       "    <tr>\n",
       "      <th>std</th>\n",
       "      <td>9532.263503</td>\n",
       "      <td>15.030865</td>\n",
       "      <td>3595.990620</td>\n",
       "      <td>19.549882</td>\n",
       "      <td>3.807661</td>\n",
       "      <td>0.295468</td>\n",
       "      <td>0.335278</td>\n",
       "      <td>0.380124</td>\n",
       "      <td>0.269970</td>\n",
       "      <td>0.483405</td>\n",
       "      <td>0.219653</td>\n",
       "      <td>0.023718</td>\n",
       "      <td>0.751533</td>\n",
       "      <td>0.482204</td>\n",
       "    </tr>\n",
       "    <tr>\n",
       "      <th>min</th>\n",
       "      <td>2.000000</td>\n",
       "      <td>0.000000</td>\n",
       "      <td>1.000000</td>\n",
       "      <td>0.000000</td>\n",
       "      <td>1.089300</td>\n",
       "      <td>0.000000</td>\n",
       "      <td>0.000000</td>\n",
       "      <td>0.000000</td>\n",
       "      <td>0.000000</td>\n",
       "      <td>0.000000</td>\n",
       "      <td>0.000000</td>\n",
       "      <td>0.000000</td>\n",
       "      <td>1.000000</td>\n",
       "      <td>0.000000</td>\n",
       "    </tr>\n",
       "    <tr>\n",
       "      <th>25%</th>\n",
       "      <td>8280.000000</td>\n",
       "      <td>13.000000</td>\n",
       "      <td>3181.000000</td>\n",
       "      <td>16.000000</td>\n",
       "      <td>20.205550</td>\n",
       "      <td>1.000000</td>\n",
       "      <td>0.000000</td>\n",
       "      <td>0.000000</td>\n",
       "      <td>0.000000</td>\n",
       "      <td>0.000000</td>\n",
       "      <td>0.000000</td>\n",
       "      <td>0.000000</td>\n",
       "      <td>1.000000</td>\n",
       "      <td>0.000000</td>\n",
       "    </tr>\n",
       "    <tr>\n",
       "      <th>50%</th>\n",
       "      <td>16597.000000</td>\n",
       "      <td>26.000000</td>\n",
       "      <td>6242.000000</td>\n",
       "      <td>33.000000</td>\n",
       "      <td>23.386199</td>\n",
       "      <td>1.000000</td>\n",
       "      <td>0.000000</td>\n",
       "      <td>0.000000</td>\n",
       "      <td>0.000000</td>\n",
       "      <td>0.000000</td>\n",
       "      <td>0.000000</td>\n",
       "      <td>0.000000</td>\n",
       "      <td>2.000000</td>\n",
       "      <td>1.000000</td>\n",
       "    </tr>\n",
       "    <tr>\n",
       "      <th>75%</th>\n",
       "      <td>24825.000000</td>\n",
       "      <td>39.000000</td>\n",
       "      <td>9363.000000</td>\n",
       "      <td>50.000000</td>\n",
       "      <td>26.788154</td>\n",
       "      <td>1.000000</td>\n",
       "      <td>0.000000</td>\n",
       "      <td>0.000000</td>\n",
       "      <td>0.000000</td>\n",
       "      <td>1.000000</td>\n",
       "      <td>0.000000</td>\n",
       "      <td>0.000000</td>\n",
       "      <td>2.000000</td>\n",
       "      <td>1.000000</td>\n",
       "    </tr>\n",
       "    <tr>\n",
       "      <th>max</th>\n",
       "      <td>33014.000000</td>\n",
       "      <td>52.000000</td>\n",
       "      <td>12515.000000</td>\n",
       "      <td>149.000000</td>\n",
       "      <td>29.999579</td>\n",
       "      <td>1.000000</td>\n",
       "      <td>1.000000</td>\n",
       "      <td>1.000000</td>\n",
       "      <td>1.000000</td>\n",
       "      <td>1.000000</td>\n",
       "      <td>1.000000</td>\n",
       "      <td>1.000000</td>\n",
       "      <td>5.000000</td>\n",
       "      <td>1.000000</td>\n",
       "    </tr>\n",
       "  </tbody>\n",
       "</table>\n",
       "</div>"
      ],
      "text/plain": [
       "       ID_Patient_Care_Situation  Diagnosed_Condition    Patient_ID  \\\n",
       "count               23097.000000         23097.000000  23097.000000   \n",
       "mean                16545.712041            26.413127   6261.280772   \n",
       "std                  9532.263503            15.030865   3595.990620   \n",
       "min                     2.000000             0.000000      1.000000   \n",
       "25%                  8280.000000            13.000000   3181.000000   \n",
       "50%                 16597.000000            26.000000   6242.000000   \n",
       "75%                 24825.000000            39.000000   9363.000000   \n",
       "max                 33014.000000            52.000000  12515.000000   \n",
       "\n",
       "        Patient_Age  Patient_Body_Mass_Index             A             B  \\\n",
       "count  23097.000000             23097.000000  23097.000000  23097.000000   \n",
       "mean      33.209768                23.454820      0.903364      0.129064   \n",
       "std       19.549882                 3.807661      0.295468      0.335278   \n",
       "min        0.000000                 1.089300      0.000000      0.000000   \n",
       "25%       16.000000                20.205550      1.000000      0.000000   \n",
       "50%       33.000000                23.386199      1.000000      0.000000   \n",
       "75%       50.000000                26.788154      1.000000      0.000000   \n",
       "max      149.000000                29.999579      1.000000      1.000000   \n",
       "\n",
       "                  C             D             E             F             Z  \\\n",
       "count  23097.000000  23097.000000  23097.000000  23097.000000  23097.000000   \n",
       "mean       0.175174      0.079144      0.372213      0.050829      0.000563   \n",
       "std        0.380124      0.269970      0.483405      0.219653      0.023718   \n",
       "min        0.000000      0.000000      0.000000      0.000000      0.000000   \n",
       "25%        0.000000      0.000000      0.000000      0.000000      0.000000   \n",
       "50%        0.000000      0.000000      0.000000      0.000000      0.000000   \n",
       "75%        0.000000      0.000000      1.000000      0.000000      0.000000   \n",
       "max        1.000000      1.000000      1.000000      1.000000      1.000000   \n",
       "\n",
       "       Number_of_prev_cond  Survived_1_year  \n",
       "count         23097.000000     23097.000000  \n",
       "mean              1.763822         0.632247  \n",
       "std               0.751533         0.482204  \n",
       "min               1.000000         0.000000  \n",
       "25%               1.000000         0.000000  \n",
       "50%               2.000000         1.000000  \n",
       "75%               2.000000         1.000000  \n",
       "max               5.000000         1.000000  "
      ]
     },
     "execution_count": 665,
     "metadata": {},
     "output_type": "execute_result"
    }
   ],
   "source": [
    "pharma_data.describe()"
   ]
  },
  {
   "cell_type": "code",
   "execution_count": 666,
   "metadata": {},
   "outputs": [
    {
     "data": {
      "text/plain": [
       "<matplotlib.axes._subplots.AxesSubplot at 0x159f6dc27b8>"
      ]
     },
     "execution_count": 666,
     "metadata": {},
     "output_type": "execute_result"
    },
    {
     "data": {
      "image/png": "[encoded data removed]",
      "text/plain": [
       "<Figure size 432x288 with 1 Axes>"
      ]
     },
     "metadata": {
      "needs_background": "light"
     },
     "output_type": "display_data"
    }
   ],
   "source": [
    "sns.countplot(x='Patient_Smoker',data=pharma_data)"
   ]
  },
  {
   "cell_type": "code",
   "execution_count": 667,
   "metadata": {},
   "outputs": [
    {
     "data": {
      "text/plain": [
       "NO            13246\n",
       "YES            9838\n",
       "Cannot say       13\n",
       "Name: Patient_Smoker, dtype: int64"
      ]
     },
     "execution_count": 667,
     "metadata": {},
     "output_type": "execute_result"
    }
   ],
   "source": [
    "pharma_data.Patient_Smoker.value_counts()"
   ]
  },
  {
   "cell_type": "code",
   "execution_count": 668,
   "metadata": {},
   "outputs": [
    {
     "data": {
      "text/plain": [
       "RURAL    16134\n",
       "URBAN     6963\n",
       "Name: Patient_Rural_Urban, dtype: int64"
      ]
     },
     "execution_count": 668,
     "metadata": {},
     "output_type": "execute_result"
    }
   ],
   "source": [
    "pharma_data.Patient_Rural_Urban.value_counts()"
   ]
  },
  {
   "cell_type": "code",
   "execution_count": 669,
   "metadata": {},
   "outputs": [],
   "source": [
    "cols = ['Patient_ID', 'Treated_with_drugs', 'Patient_mental_condition']\n",
    "pharma_data = pharma_data.drop(cols, axis=1)"
   ]
  },
  {
   "cell_type": "code",
   "execution_count": 670,
   "metadata": {},
   "outputs": [],
   "source": [
    "dummies = []\n",
    "\n",
    "cols = ['Patient_Rural_Urban', 'Patient_Smoker']\n",
    "for col in cols:\n",
    "    dummies.append(pd.get_dummies(pharma_data[col]))\n",
    "pharma_dummies = pd.concat(dummies, axis=1)"
   ]
  },
  {
   "cell_type": "code",
   "execution_count": 671,
   "metadata": {},
   "outputs": [],
   "source": [
    "pharma_data = pd.concat((pharma_data,pharma_dummies), axis=1)"
   ]
  },
  {
   "cell_type": "code",
   "execution_count": 672,
   "metadata": {},
   "outputs": [],
   "source": [
    "pharma_data = pharma_data.drop(['Patient_Rural_Urban', 'Patient_Smoker'], axis=1)"
   ]
  },
  {
   "cell_type": "code",
   "execution_count": 673,
   "metadata": {},
   "outputs": [],
   "source": [
    "pharma_data = pharma_data.drop(['Cannot say'], axis=1)"
   ]
  },
  {
   "cell_type": "code",
   "execution_count": 674,
   "metadata": {},
   "outputs": [
    {
     "data": {
      "text/html": [
       "<div>\n",
       "<style scoped>\n",
       "    .dataframe tbody tr th:only-of-type {\n",
       "        vertical-align: middle;\n",
       "    }\n",
       "\n",
       "    .dataframe tbody tr th {\n",
       "        vertical-align: top;\n",
       "    }\n",
       "\n",
       "    .dataframe thead th {\n",
       "        text-align: right;\n",
       "    }\n",
       "</style>\n",
       "<table border=\"1\" class=\"dataframe\">\n",
       "  <thead>\n",
       "    <tr style=\"text-align: right;\">\n",
       "      <th></th>\n",
       "      <th>ID_Patient_Care_Situation</th>\n",
       "      <th>Diagnosed_Condition</th>\n",
       "      <th>Patient_Age</th>\n",
       "      <th>Patient_Body_Mass_Index</th>\n",
       "      <th>A</th>\n",
       "      <th>B</th>\n",
       "      <th>C</th>\n",
       "      <th>D</th>\n",
       "      <th>E</th>\n",
       "      <th>F</th>\n",
       "      <th>Z</th>\n",
       "      <th>Number_of_prev_cond</th>\n",
       "      <th>Survived_1_year</th>\n",
       "      <th>RURAL</th>\n",
       "      <th>URBAN</th>\n",
       "      <th>NO</th>\n",
       "      <th>YES</th>\n",
       "    </tr>\n",
       "  </thead>\n",
       "  <tbody>\n",
       "    <tr>\n",
       "      <th>0</th>\n",
       "      <td>22374</td>\n",
       "      <td>8</td>\n",
       "      <td>56</td>\n",
       "      <td>18.479385</td>\n",
       "      <td>1.0</td>\n",
       "      <td>0.0</td>\n",
       "      <td>0.0</td>\n",
       "      <td>0.0</td>\n",
       "      <td>1.0</td>\n",
       "      <td>0.0</td>\n",
       "      <td>0.0</td>\n",
       "      <td>2.0</td>\n",
       "      <td>0</td>\n",
       "      <td>0</td>\n",
       "      <td>1</td>\n",
       "      <td>0</td>\n",
       "      <td>1</td>\n",
       "    </tr>\n",
       "    <tr>\n",
       "      <th>1</th>\n",
       "      <td>18164</td>\n",
       "      <td>5</td>\n",
       "      <td>36</td>\n",
       "      <td>22.945566</td>\n",
       "      <td>1.0</td>\n",
       "      <td>0.0</td>\n",
       "      <td>0.0</td>\n",
       "      <td>0.0</td>\n",
       "      <td>0.0</td>\n",
       "      <td>0.0</td>\n",
       "      <td>0.0</td>\n",
       "      <td>1.0</td>\n",
       "      <td>1</td>\n",
       "      <td>1</td>\n",
       "      <td>0</td>\n",
       "      <td>0</td>\n",
       "      <td>1</td>\n",
       "    </tr>\n",
       "    <tr>\n",
       "      <th>2</th>\n",
       "      <td>6283</td>\n",
       "      <td>23</td>\n",
       "      <td>48</td>\n",
       "      <td>27.510027</td>\n",
       "      <td>1.0</td>\n",
       "      <td>0.0</td>\n",
       "      <td>0.0</td>\n",
       "      <td>0.0</td>\n",
       "      <td>0.0</td>\n",
       "      <td>0.0</td>\n",
       "      <td>0.0</td>\n",
       "      <td>1.0</td>\n",
       "      <td>0</td>\n",
       "      <td>1</td>\n",
       "      <td>0</td>\n",
       "      <td>0</td>\n",
       "      <td>1</td>\n",
       "    </tr>\n",
       "    <tr>\n",
       "      <th>3</th>\n",
       "      <td>5339</td>\n",
       "      <td>51</td>\n",
       "      <td>5</td>\n",
       "      <td>19.130976</td>\n",
       "      <td>1.0</td>\n",
       "      <td>0.0</td>\n",
       "      <td>0.0</td>\n",
       "      <td>0.0</td>\n",
       "      <td>0.0</td>\n",
       "      <td>0.0</td>\n",
       "      <td>0.0</td>\n",
       "      <td>1.0</td>\n",
       "      <td>1</td>\n",
       "      <td>0</td>\n",
       "      <td>1</td>\n",
       "      <td>1</td>\n",
       "      <td>0</td>\n",
       "    </tr>\n",
       "    <tr>\n",
       "      <th>4</th>\n",
       "      <td>33012</td>\n",
       "      <td>0</td>\n",
       "      <td>128</td>\n",
       "      <td>1.348400</td>\n",
       "      <td>0.0</td>\n",
       "      <td>0.0</td>\n",
       "      <td>0.0</td>\n",
       "      <td>0.0</td>\n",
       "      <td>0.0</td>\n",
       "      <td>0.0</td>\n",
       "      <td>1.0</td>\n",
       "      <td>1.0</td>\n",
       "      <td>1</td>\n",
       "      <td>1</td>\n",
       "      <td>0</td>\n",
       "      <td>0</td>\n",
       "      <td>0</td>\n",
       "    </tr>\n",
       "  </tbody>\n",
       "</table>\n",
       "</div>"
      ],
      "text/plain": [
       "   ID_Patient_Care_Situation  Diagnosed_Condition  Patient_Age  \\\n",
       "0                      22374                    8           56   \n",
       "1                      18164                    5           36   \n",
       "2                       6283                   23           48   \n",
       "3                       5339                   51            5   \n",
       "4                      33012                    0          128   \n",
       "\n",
       "   Patient_Body_Mass_Index    A    B    C    D    E    F    Z  \\\n",
       "0                18.479385  1.0  0.0  0.0  0.0  1.0  0.0  0.0   \n",
       "1                22.945566  1.0  0.0  0.0  0.0  0.0  0.0  0.0   \n",
       "2                27.510027  1.0  0.0  0.0  0.0  0.0  0.0  0.0   \n",
       "3                19.130976  1.0  0.0  0.0  0.0  0.0  0.0  0.0   \n",
       "4                 1.348400  0.0  0.0  0.0  0.0  0.0  0.0  1.0   \n",
       "\n",
       "   Number_of_prev_cond  Survived_1_year  RURAL  URBAN  NO  YES  \n",
       "0                  2.0                0      0      1   0    1  \n",
       "1                  1.0                1      1      0   0    1  \n",
       "2                  1.0                0      1      0   0    1  \n",
       "3                  1.0                1      0      1   1    0  \n",
       "4                  1.0                1      1      0   0    0  "
      ]
     },
     "execution_count": 674,
     "metadata": {},
     "output_type": "execute_result"
    }
   ],
   "source": [
    "pharma_data.head()"
   ]
  },
  {
   "cell_type": "code",
   "execution_count": 675,
   "metadata": {},
   "outputs": [
    {
     "name": "stdout",
     "output_type": "stream",
     "text": [
      "Survived_1_year              1.000000\n",
      "NO                           0.252765\n",
      "RURAL                        0.112767\n",
      "Z                            0.018099\n",
      "E                            0.008466\n",
      "F                            0.000304\n",
      "Diagnosed_Condition         -0.004450\n",
      "ID_Patient_Care_Situation   -0.004685\n",
      "C                           -0.039701\n",
      "A                           -0.043404\n",
      "B                           -0.054560\n",
      "Number_of_prev_cond         -0.074087\n",
      "Patient_Age                 -0.074934\n",
      "D                           -0.107677\n",
      "URBAN                       -0.112767\n",
      "Patient_Body_Mass_Index     -0.121844\n",
      "YES                         -0.253676\n",
      "Name: Survived_1_year, dtype: float64 \n",
      "\n"
     ]
    }
   ],
   "source": [
    "correlation = pharma_data.corr()\n",
    "print(correlation['Survived_1_year'].sort_values(ascending = False),'\\n')"
   ]
  },
  {
   "cell_type": "code",
   "execution_count": 676,
   "metadata": {},
   "outputs": [
    {
     "name": "stdout",
     "output_type": "stream",
     "text": [
      "Index(['Survived_1_year', 'NO', 'RURAL', 'Z', 'E', 'F', 'Diagnosed_Condition',\n",
      "       'ID_Patient_Care_Situation', 'C', 'A', 'B'],\n",
      "      dtype='object')\n"
     ]
    },
    {
     "data": {
      "text/plain": [
       "<matplotlib.axes._subplots.AxesSubplot at 0x159f6c80eb8>"
      ]
     },
     "execution_count": 676,
     "metadata": {},
     "output_type": "execute_result"
    },
    {
     "data": {
      "image/png": "[encoded data removed]",
      "text/plain": [
       "<Figure size 1008x864 with 2 Axes>"
      ]
     },
     "metadata": {
      "needs_background": "light"
     },
     "output_type": "display_data"
    }
   ],
   "source": [
    "k= 11\n",
    "cols = correlation.nlargest(k,'Survived_1_year')['Survived_1_year'].index\n",
    "print(cols)\n",
    "cm = np.corrcoef(pharma_data[cols].values.T)\n",
    "f , ax = plt.subplots(figsize = (14,12))\n",
    "sns.heatmap(cm, vmax=.8, linewidths=0.01,square=True,annot=True,cmap='viridis',\n",
    "            linecolor=\"white\",xticklabels = cols.values ,annot_kws = {'size':12},yticklabels = cols.values)"
   ]
  },
  {
   "cell_type": "markdown",
   "metadata": {},
   "source": [
    "# Splitting test train data"
   ]
  },
  {
   "cell_type": "code",
   "execution_count": 677,
   "metadata": {},
   "outputs": [],
   "source": [
    "x = pharma_data.drop('Survived_1_year', axis=1)\n",
    "y = pharma_data.Survived_1_year"
   ]
  },
  {
   "cell_type": "code",
   "execution_count": 678,
   "metadata": {},
   "outputs": [],
   "source": [
    "from sklearn.model_selection import train_test_split\n",
    "x_train,x_test,y_train,y_test=train_test_split(x,y,test_size=.33,random_state=42)"
   ]
  },
  {
   "cell_type": "code",
   "execution_count": 679,
   "metadata": {},
   "outputs": [
    {
     "name": "stderr",
     "output_type": "stream",
     "text": [
      "C:\\Users\\HP\\Anaconda3\\lib\\site-packages\\sklearn\\linear_model\\logistic.py:432: FutureWarning: Default solver will be changed to 'lbfgs' in 0.22. Specify a solver to silence this warning.\n",
      "  FutureWarning)\n"
     ]
    }
   ],
   "source": [
    "from sklearn.linear_model import LogisticRegression\n",
    "logreg=LogisticRegression()\n",
    "logreg.fit(x_train,y_train)\n",
    "y_pred=logreg.predict(x_test)"
   ]
  },
  {
   "cell_type": "markdown",
   "metadata": {},
   "source": [
    "# Logistic Regression"
   ]
  },
  {
   "cell_type": "code",
   "execution_count": 680,
   "metadata": {},
   "outputs": [
    {
     "data": {
      "text/plain": [
       "0.6734881280335826"
      ]
     },
     "execution_count": 680,
     "metadata": {},
     "output_type": "execute_result"
    }
   ],
   "source": [
    "import sklearn\n",
    "sklearn.metrics.accuracy_score(y_test,y_pred)"
   ]
  },
  {
   "cell_type": "code",
   "execution_count": 681,
   "metadata": {},
   "outputs": [
    {
     "data": {
      "text/plain": [
       "<matplotlib.axes._subplots.AxesSubplot at 0x159f6dba898>"
      ]
     },
     "execution_count": 681,
     "metadata": {},
     "output_type": "execute_result"
    },
    {
     "data": {
      "image/png": "[encoded data removed]",
      "text/plain": [
       "<Figure size 576x360 with 2 Axes>"
      ]
     },
     "metadata": {
      "needs_background": "light"
     },
     "output_type": "display_data"
    }
   ],
   "source": [
    "from sklearn.metrics import confusion_matrix\n",
    "cm=confusion_matrix(y_test,y_pred)\n",
    "conf_matrix=pd.DataFrame(data=cm,columns=['Predicted:0','Predicted:1'],index=['Actual:0','Actual:1'])\n",
    "plt.figure(figsize = (8,5))\n",
    "sns.heatmap(conf_matrix, annot=True,fmt='d',cmap=\"YlGnBu\")"
   ]
  },
  {
   "cell_type": "code",
   "execution_count": 682,
   "metadata": {},
   "outputs": [],
   "source": [
    "TN=cm[0,0]\n",
    "TP=cm[1,1]\n",
    "FN=cm[1,0]\n",
    "FP=cm[0,1]\n",
    "sensitivity=TP/float(TP+FN)\n",
    "specificity=TN/float(TN+FP)"
   ]
  },
  {
   "cell_type": "code",
   "execution_count": 683,
   "metadata": {},
   "outputs": [
    {
     "name": "stdout",
     "output_type": "stream",
     "text": [
      "The acuuracy of the model = TP+TN/(TP+TN+FP+FN) =  0.6734881280335826 \n",
      " The Missclassification = 1-Accuracy =  0.3265118719664174 \n",
      " Sensitivity or True Positive Rate = TP/(TP+FN) =  0.8601659751037345 \n",
      " Specificity or True Negative Rate = TN/(TN+FP) =  0.35247948626471637 \n",
      " Positive Predictive value = TP/(TP+FP) =  0.6955208857574232 \n",
      " Negative predictive Value = TN/(TN+FN) =  0.5944645006016848 \n",
      " Positive Likelihood Ratio = Sensitivity/(1-Specificity) =  1.3283995747745276 \n",
      " Negative likelihood Ratio = (1-Sensitivity)/Specificity =  0.3967153560569152\n"
     ]
    }
   ],
   "source": [
    "print('The acuuracy of the model = TP+TN/(TP+TN+FP+FN) = ',(TP+TN)/float(TP+TN+FP+FN),'\\n',\n",
    "\n",
    "'The Missclassification = 1-Accuracy = ',1-((TP+TN)/float(TP+TN+FP+FN)),'\\n',\n",
    "\n",
    "'Sensitivity or True Positive Rate = TP/(TP+FN) = ',TP/float(TP+FN),'\\n',\n",
    "\n",
    "'Specificity or True Negative Rate = TN/(TN+FP) = ',TN/float(TN+FP),'\\n',\n",
    "\n",
    "'Positive Predictive value = TP/(TP+FP) = ',TP/float(TP+FP),'\\n',\n",
    "\n",
    "'Negative predictive Value = TN/(TN+FN) = ',TN/float(TN+FN),'\\n',\n",
    "\n",
    "'Positive Likelihood Ratio = Sensitivity/(1-Specificity) = ',sensitivity/(1-specificity),'\\n',\n",
    "\n",
    "'Negative likelihood Ratio = (1-Sensitivity)/Specificity = ',(1-sensitivity)/specificity)\n"
   ]
  },
  {
   "cell_type": "code",
   "execution_count": 684,
   "metadata": {},
   "outputs": [
    {
     "data": {
      "text/plain": [
       "0.7691308783971803"
      ]
     },
     "execution_count": 684,
     "metadata": {},
     "output_type": "execute_result"
    }
   ],
   "source": [
    "sklearn.metrics.f1_score(y_test, y_pred)"
   ]
  },
  {
   "cell_type": "markdown",
   "metadata": {},
   "source": [
    "# Decision Tree"
   ]
  },
  {
   "cell_type": "code",
   "execution_count": 621,
   "metadata": {},
   "outputs": [],
   "source": [
    "from sklearn.tree import DecisionTreeClassifier\n",
    "\n",
    "# Create Decision Tree regressor object\n",
    "clf = DecisionTreeClassifier(random_state=1)\n",
    "\n",
    "# Train Decision Tree Classifer\n",
    "clf = clf.fit(x_train,y_train)\n",
    "\n",
    "#Predict the response for test dataset\n",
    "y_pred = clf.predict(x_test)"
   ]
  },
  {
   "cell_type": "code",
   "execution_count": 622,
   "metadata": {},
   "outputs": [
    {
     "data": {
      "text/plain": [
       "<matplotlib.axes._subplots.AxesSubplot at 0x159f6c23be0>"
      ]
     },
     "execution_count": 622,
     "metadata": {},
     "output_type": "execute_result"
    },
    {
     "data": {
      "image/png": "[encoded data removed]",
      "text/plain": [
       "<Figure size 576x360 with 2 Axes>"
      ]
     },
     "metadata": {
      "needs_background": "light"
     },
     "output_type": "display_data"
    }
   ],
   "source": [
    "cm=confusion_matrix(y_test,y_pred)\n",
    "conf_matrix=pd.DataFrame(data=cm,columns=['Predicted:0','Predicted:1'],index=['Actual:0','Actual:1'])\n",
    "plt.figure(figsize = (8,5))\n",
    "sns.heatmap(conf_matrix, annot=True,fmt='d',cmap=\"YlGnBu\")"
   ]
  },
  {
   "cell_type": "code",
   "execution_count": 623,
   "metadata": {},
   "outputs": [
    {
     "data": {
      "text/plain": [
       "0.6824675324675324"
      ]
     },
     "execution_count": 623,
     "metadata": {},
     "output_type": "execute_result"
    }
   ],
   "source": [
    "sklearn.metrics.accuracy_score(y_test,y_pred)"
   ]
  },
  {
   "cell_type": "code",
   "execution_count": 624,
   "metadata": {},
   "outputs": [
    {
     "data": {
      "text/plain": [
       "0.7453567089047041"
      ]
     },
     "execution_count": 624,
     "metadata": {},
     "output_type": "execute_result"
    }
   ],
   "source": [
    "sklearn.metrics.f1_score(y_test, y_pred)"
   ]
  },
  {
   "cell_type": "markdown",
   "metadata": {},
   "source": [
    "# Random Forest"
   ]
  },
  {
   "cell_type": "code",
   "execution_count": 685,
   "metadata": {},
   "outputs": [],
   "source": [
    "from sklearn.ensemble import RandomForestClassifier"
   ]
  },
  {
   "cell_type": "code",
   "execution_count": 686,
   "metadata": {},
   "outputs": [
    {
     "name": "stderr",
     "output_type": "stream",
     "text": [
      "C:\\Users\\HP\\Anaconda3\\lib\\site-packages\\sklearn\\ensemble\\forest.py:245: FutureWarning: The default value of n_estimators will change from 10 in version 0.20 to 100 in 0.22.\n",
      "  \"10 in version 0.20 to 100 in 0.22.\", FutureWarning)\n"
     ]
    },
    {
     "data": {
      "text/plain": [
       "RandomForestClassifier(bootstrap=True, class_weight=None, criterion='gini',\n",
       "                       max_depth=None, max_features='auto', max_leaf_nodes=None,\n",
       "                       min_impurity_decrease=0.0, min_impurity_split=None,\n",
       "                       min_samples_leaf=1, min_samples_split=2,\n",
       "                       min_weight_fraction_leaf=0.0, n_estimators=10,\n",
       "                       n_jobs=None, oob_score=False, random_state=None,\n",
       "                       verbose=0, warm_start=False)"
      ]
     },
     "execution_count": 686,
     "metadata": {},
     "output_type": "execute_result"
    }
   ],
   "source": [
    "rfc = RandomForestClassifier()\n",
    "rfc.fit(x_train, y_train)"
   ]
  },
  {
   "cell_type": "code",
   "execution_count": 687,
   "metadata": {},
   "outputs": [
    {
     "data": {
      "image/png": "[encoded data removed]",
      "text/plain": [
       "<Figure size 432x288 with 1 Axes>"
      ]
     },
     "metadata": {
      "needs_background": "light"
     },
     "output_type": "display_data"
    }
   ],
   "source": [
    "y_pred = rfc.predict(x_test)\n",
    "\n",
    "feat_importances = pd.Series(rfc.feature_importances_, index=x_train.columns)\n",
    "feat_importances.nlargest(10).plot(kind='barh')\n",
    "plt.show()"
   ]
  },
  {
   "cell_type": "code",
   "execution_count": 688,
   "metadata": {},
   "outputs": [
    {
     "data": {
      "text/plain": [
       "<matplotlib.axes._subplots.AxesSubplot at 0x159f6a73d68>"
      ]
     },
     "execution_count": 688,
     "metadata": {},
     "output_type": "execute_result"
    },
    {
     "data": {
      "image/png": "[encoded data removed]",
      "text/plain": [
       "<Figure size 576x360 with 2 Axes>"
      ]
     },
     "metadata": {
      "needs_background": "light"
     },
     "output_type": "display_data"
    }
   ],
   "source": [
    "cm=confusion_matrix(y_test,y_pred)\n",
    "conf_matrix=pd.DataFrame(data=cm,columns=['Predicted:0','Predicted:1'],index=['Actual:0','Actual:1'])\n",
    "plt.figure(figsize = (8,5))\n",
    "sns.heatmap(conf_matrix, annot=True,fmt='d',cmap=\"YlGnBu\")"
   ]
  },
  {
   "cell_type": "code",
   "execution_count": 689,
   "metadata": {},
   "outputs": [
    {
     "data": {
      "text/plain": [
       "0.7384231929686476"
      ]
     },
     "execution_count": 689,
     "metadata": {},
     "output_type": "execute_result"
    }
   ],
   "source": [
    "sklearn.metrics.accuracy_score(y_test,y_pred)"
   ]
  },
  {
   "cell_type": "code",
   "execution_count": 690,
   "metadata": {},
   "outputs": [
    {
     "data": {
      "text/plain": [
       "0.7943057561378173"
      ]
     },
     "execution_count": 690,
     "metadata": {},
     "output_type": "execute_result"
    }
   ],
   "source": [
    "sklearn.metrics.f1_score(y_test, y_pred)"
   ]
  },
  {
   "cell_type": "markdown",
   "metadata": {},
   "source": [
    "# Feature selection"
   ]
  },
  {
   "cell_type": "code",
   "execution_count": 631,
   "metadata": {},
   "outputs": [
    {
     "name": "stdout",
     "output_type": "stream",
     "text": [
      "Num Features: 8\n",
      "Selected Features: [ True  True  True  True False False False False False False False  True\n",
      "  True False  True  True]\n",
      "Feature Ranking: [1 1 1 1 7 5 4 2 3 8 9 1 1 6 1 1]\n"
     ]
    }
   ],
   "source": [
    "from sklearn.feature_selection import RFE #importing RFE class from sklearn library\n",
    "\n",
    "rfe = RFE(estimator= rfc , step = 1) \n",
    "# estimator clf_lr is the baseline model (basic model) that we have created under \"Base line Model\" selection\n",
    "# step = 1: removes one feature at a time and then builds a model on the remaining features\n",
    "# It uses the model accuracy to identify which features (and combination of features) contribute the most to predicting the target variable.\n",
    "# we can even provide no. of features as an argument \n",
    "\n",
    "# Fit the function for ranking the features\n",
    "fit = rfe.fit(x_train, y_train)\n",
    "\n",
    "print(\"Num Features: %d\" % fit.n_features_)\n",
    "print(\"Selected Features: %s\" % fit.support_)\n",
    "print(\"Feature Ranking: %s\" % fit.ranking_)"
   ]
  },
  {
   "cell_type": "code",
   "execution_count": 632,
   "metadata": {},
   "outputs": [
    {
     "data": {
      "text/html": [
       "<div>\n",
       "<style scoped>\n",
       "    .dataframe tbody tr th:only-of-type {\n",
       "        vertical-align: middle;\n",
       "    }\n",
       "\n",
       "    .dataframe tbody tr th {\n",
       "        vertical-align: top;\n",
       "    }\n",
       "\n",
       "    .dataframe thead th {\n",
       "        text-align: right;\n",
       "    }\n",
       "</style>\n",
       "<table border=\"1\" class=\"dataframe\">\n",
       "  <thead>\n",
       "    <tr style=\"text-align: right;\">\n",
       "      <th></th>\n",
       "      <th>Feature</th>\n",
       "      <th>Ranking</th>\n",
       "    </tr>\n",
       "  </thead>\n",
       "  <tbody>\n",
       "    <tr>\n",
       "      <th>0</th>\n",
       "      <td>ID_Patient_Care_Situation</td>\n",
       "      <td>1</td>\n",
       "    </tr>\n",
       "    <tr>\n",
       "      <th>1</th>\n",
       "      <td>Diagnosed_Condition</td>\n",
       "      <td>1</td>\n",
       "    </tr>\n",
       "    <tr>\n",
       "      <th>2</th>\n",
       "      <td>Patient_Age</td>\n",
       "      <td>1</td>\n",
       "    </tr>\n",
       "    <tr>\n",
       "      <th>3</th>\n",
       "      <td>Patient_Body_Mass_Index</td>\n",
       "      <td>1</td>\n",
       "    </tr>\n",
       "    <tr>\n",
       "      <th>11</th>\n",
       "      <td>Number_of_prev_cond</td>\n",
       "      <td>1</td>\n",
       "    </tr>\n",
       "    <tr>\n",
       "      <th>12</th>\n",
       "      <td>RURAL</td>\n",
       "      <td>1</td>\n",
       "    </tr>\n",
       "    <tr>\n",
       "      <th>14</th>\n",
       "      <td>NO</td>\n",
       "      <td>1</td>\n",
       "    </tr>\n",
       "    <tr>\n",
       "      <th>15</th>\n",
       "      <td>YES</td>\n",
       "      <td>1</td>\n",
       "    </tr>\n",
       "    <tr>\n",
       "      <th>7</th>\n",
       "      <td>D</td>\n",
       "      <td>2</td>\n",
       "    </tr>\n",
       "    <tr>\n",
       "      <th>8</th>\n",
       "      <td>E</td>\n",
       "      <td>3</td>\n",
       "    </tr>\n",
       "    <tr>\n",
       "      <th>6</th>\n",
       "      <td>C</td>\n",
       "      <td>4</td>\n",
       "    </tr>\n",
       "    <tr>\n",
       "      <th>5</th>\n",
       "      <td>B</td>\n",
       "      <td>5</td>\n",
       "    </tr>\n",
       "    <tr>\n",
       "      <th>13</th>\n",
       "      <td>URBAN</td>\n",
       "      <td>6</td>\n",
       "    </tr>\n",
       "    <tr>\n",
       "      <th>4</th>\n",
       "      <td>A</td>\n",
       "      <td>7</td>\n",
       "    </tr>\n",
       "    <tr>\n",
       "      <th>9</th>\n",
       "      <td>F</td>\n",
       "      <td>8</td>\n",
       "    </tr>\n",
       "    <tr>\n",
       "      <th>10</th>\n",
       "      <td>Z</td>\n",
       "      <td>9</td>\n",
       "    </tr>\n",
       "  </tbody>\n",
       "</table>\n",
       "</div>"
      ],
      "text/plain": [
       "                      Feature  Ranking\n",
       "0   ID_Patient_Care_Situation        1\n",
       "1         Diagnosed_Condition        1\n",
       "2                 Patient_Age        1\n",
       "3     Patient_Body_Mass_Index        1\n",
       "11        Number_of_prev_cond        1\n",
       "12                      RURAL        1\n",
       "14                         NO        1\n",
       "15                        YES        1\n",
       "7                           D        2\n",
       "8                           E        3\n",
       "6                           C        4\n",
       "5                           B        5\n",
       "13                      URBAN        6\n",
       "4                           A        7\n",
       "9                           F        8\n",
       "10                          Z        9"
      ]
     },
     "execution_count": 632,
     "metadata": {},
     "output_type": "execute_result"
    }
   ],
   "source": [
    "selected_rfe_features = pd.DataFrame({'Feature':list(x_train.columns),\n",
    "                                      'Ranking':rfe.ranking_})\n",
    "selected_rfe_features.sort_values(by='Ranking')"
   ]
  },
  {
   "cell_type": "code",
   "execution_count": 706,
   "metadata": {},
   "outputs": [],
   "source": [
    "parameter = {\n",
    "            'n_estimators': [ ], \n",
    "              'max_features': [], \n",
    "              'criterion': [],\n",
    "              'max_depth': [] ,\n",
    "              'min_samples_split': [ ],\n",
    "              'min_samples_leaf': [ ] \n",
    "           }"
   ]
  },
  {
   "cell_type": "code",
   "execution_count": 717,
   "metadata": {},
   "outputs": [],
   "source": [
    "def gridfunc(classifier, parameter, x_train, y_train):\n",
    "        \n",
    "    clf = classifier\n",
    "    np.random.seed(9)\n",
    "    parameters = parameter\n",
    "    acc_scorer = make_scorer(accuracy_score)\n",
    "    \n",
    "    # Run the grid search\n",
    "    grid_obj = GridSearchCV(clf, parameters, scoring=acc_scorer, return_train_score=True)\n",
    "    grid_obj = grid_obj.fit(x_train, y_train) \n",
    "    \n",
    "    return grid_obj"
   ]
  },
  {
   "cell_type": "code",
   "execution_count": 708,
   "metadata": {},
   "outputs": [],
   "source": [
    "def hp_cv_scores(grid_obj):\n",
    "    grid_obj.cv_results_  #A dictionary with keys as column title and values as columns\n",
    "    mean_test_scores = grid_obj.cv_results_['mean_test_score'] #Adding 'mean_test_score' as a key\n",
    "    mean_train_scores = grid_obj.cv_results_['mean_train_score'] #Adding 'mean_train_score' as a key\n",
    "    \n",
    "    plt.figure(figsize=(10,6))\n",
    "    \n",
    "    # the below lines just fill up the column using the various parameter values we want to try\n",
    "    all_vals = list(grid_obj.param_grid.values())\n",
    "    param_values =[str(x) for x in all_vals[0]]\n",
    "    \n",
    "    # The below line creates values for ticks on x axis. If there are 2 parameter values to be tried, it'll create 2 ticks\n",
    "    x = np.arange(1, len(param_values)+1)\n",
    "     \n",
    "    plt.plot(x,mean_train_scores, c='r', label='Train set') #Plotting the mean_train_scores in red\n",
    "    \n",
    "    plt.xticks(x,param_values)\n",
    "    \n",
    "    plt.plot(x,mean_test_scores,c='g', label='Test set') #Plotting the mean_test_scores in red\n",
    "    plt.xlabel(list(grid_obj.param_grid.keys())[0]) #Label of the column will be the hyperparameter\n",
    "    plt.ylabel('mean scores')\n",
    "    plt.legend()\n",
    "    plt.show()"
   ]
  },
  {
   "cell_type": "code",
   "execution_count": 709,
   "metadata": {},
   "outputs": [],
   "source": [
    "classifier = RandomForestClassifier(random_state=9)"
   ]
  },
  {
   "cell_type": "code",
   "execution_count": 723,
   "metadata": {},
   "outputs": [],
   "source": [
    "from sklearn.model_selection import train_test_split, GridSearchCV\n",
    "from sklearn.ensemble import RandomForestClassifier, RandomForestRegressor\n",
    "from sklearn.metrics import accuracy_score, roc_auc_score, make_scorer\n",
    "\n",
    "import warnings\n",
    "warnings.filterwarnings('ignore')"
   ]
  },
  {
   "cell_type": "code",
   "execution_count": 724,
   "metadata": {},
   "outputs": [
    {
     "data": {
      "image/png": "[encoded data removed]",
      "text/plain": [
       "<Figure size 720x432 with 1 Axes>"
      ]
     },
     "metadata": {
      "needs_background": "light"
     },
     "output_type": "display_data"
    }
   ],
   "source": [
    "# plotting the graph using created function to find the variation in model for given n_estimators -- NEEDS LEGEND\n",
    "\n",
    "grid = gridfunc(classifier,{'n_estimators': [2, 3, 4]} , x_train, y_train)\n",
    "hp_cv_scores(grid)"
   ]
  },
  {
   "cell_type": "code",
   "execution_count": 725,
   "metadata": {},
   "outputs": [
    {
     "data": {
      "image/png": "[encoded data removed]",
      "text/plain": [
       "<Figure size 720x432 with 1 Axes>"
      ]
     },
     "metadata": {
      "needs_background": "light"
     },
     "output_type": "display_data"
    }
   ],
   "source": [
    "# plotting the graph to find the variation in model for given max features\n",
    "\n",
    "grid = gridfunc(classifier,{'max_features': ['log2', 'sqrt']} , x_train, y_train)\n",
    "hp_cv_scores(grid)"
   ]
  },
  {
   "cell_type": "code",
   "execution_count": 726,
   "metadata": {},
   "outputs": [
    {
     "data": {
      "image/png": "[encoded data removed]",
      "text/plain": [
       "<Figure size 720x432 with 1 Axes>"
      ]
     },
     "metadata": {
      "needs_background": "light"
     },
     "output_type": "display_data"
    }
   ],
   "source": [
    "# plotting the graph to find the variation in model for given criterion\n",
    "\n",
    "grid = gridfunc(classifier,{'criterion': ['entropy', 'gini']} , x_train, y_train)\n",
    "hp_cv_scores(grid)"
   ]
  },
  {
   "cell_type": "code",
   "execution_count": 727,
   "metadata": {},
   "outputs": [
    {
     "data": {
      "image/png": "[encoded data removed]",
      "text/plain": [
       "<Figure size 720x432 with 1 Axes>"
      ]
     },
     "metadata": {
      "needs_background": "light"
     },
     "output_type": "display_data"
    }
   ],
   "source": [
    "# plotting the graph to find the variation in model for given max depth\n",
    "\n",
    "grid = gridfunc(classifier,{'max_depth': [2,4,6,8,16]} , x_train, y_train)\n",
    "hp_cv_scores(grid)"
   ]
  },
  {
   "cell_type": "code",
   "execution_count": 728,
   "metadata": {},
   "outputs": [
    {
     "data": {
      "image/png": "[encoded data removed]",
      "text/plain": [
       "<Figure size 720x432 with 1 Axes>"
      ]
     },
     "metadata": {
      "needs_background": "light"
     },
     "output_type": "display_data"
    }
   ],
   "source": [
    "# plotting the graph to find the variation in model for given min samples split\n",
    "\n",
    "grid = gridfunc(classifier,{'min_samples_split': [2, 3, 5, 10, 15,20,25,30,35]} , x_train, y_train)\n",
    "hp_cv_scores(grid)"
   ]
  },
  {
   "cell_type": "code",
   "execution_count": 729,
   "metadata": {},
   "outputs": [
    {
     "data": {
      "image/png": "[encoded data removed]",
      "text/plain": [
       "<Figure size 720x432 with 1 Axes>"
      ]
     },
     "metadata": {
      "needs_background": "light"
     },
     "output_type": "display_data"
    }
   ],
   "source": [
    "# plotting the graph to find the variation in model for given min samples leaf\n",
    "\n",
    "grid = gridfunc(classifier,{'min_samples_leaf': [1,3,5,8,50,100]} , x_train, y_train)\n",
    "hp_cv_scores(grid)"
   ]
  },
  {
   "cell_type": "code",
   "execution_count": 730,
   "metadata": {},
   "outputs": [],
   "source": [
    "classifier = RandomForestClassifier(random_state=9)\n",
    "parameter = {'n_estimators': [10,50,100], \n",
    "              'max_features': ['log2', 'sqrt'], \n",
    "              'criterion': ['entropy', 'gini'],\n",
    "              'max_depth': [2,4,6], \n",
    "              'min_samples_split': [2, 3, 5],\n",
    "              'min_samples_leaf': [1,3,5]\n",
    "             }"
   ]
  },
  {
   "cell_type": "code",
   "execution_count": 731,
   "metadata": {},
   "outputs": [],
   "source": [
    "#task find the results for the given params\n",
    "grid = gridfunc(classifier, parameter, x_train, y_train)"
   ]
  },
  {
   "cell_type": "code",
   "execution_count": 732,
   "metadata": {},
   "outputs": [
    {
     "data": {
      "text/plain": [
       "RandomForestClassifier(bootstrap=True, class_weight=None, criterion='gini',\n",
       "                       max_depth=6, max_features='log2', max_leaf_nodes=None,\n",
       "                       min_impurity_decrease=0.0, min_impurity_split=None,\n",
       "                       min_samples_leaf=1, min_samples_split=3,\n",
       "                       min_weight_fraction_leaf=0.0, n_estimators=50,\n",
       "                       n_jobs=None, oob_score=False, random_state=9, verbose=0,\n",
       "                       warm_start=False)"
      ]
     },
     "execution_count": 732,
     "metadata": {},
     "output_type": "execute_result"
    }
   ],
   "source": [
    "# Set the clf to the best combination of parameters\n",
    "clf = grid.best_estimator_\n",
    "    \n",
    "# Fit the best algorithm to the data. \n",
    "clf.fit(x_train, y_train)"
   ]
  },
  {
   "cell_type": "code",
   "execution_count": 733,
   "metadata": {},
   "outputs": [
    {
     "data": {
      "image/png": "[encoded data removed]",
      "text/plain": [
       "<Figure size 432x288 with 1 Axes>"
      ]
     },
     "metadata": {
      "needs_background": "light"
     },
     "output_type": "display_data"
    }
   ],
   "source": [
    "y_pred = clf.predict(x_test)\n",
    "\n",
    "feat_importances = pd.Series(rfc.feature_importances_, index=x_train.columns)\n",
    "feat_importances.nlargest(10).plot(kind='barh')\n",
    "plt.show()"
   ]
  },
  {
   "cell_type": "code",
   "execution_count": 734,
   "metadata": {},
   "outputs": [
    {
     "data": {
      "text/plain": [
       "0.8295612009237875"
      ]
     },
     "execution_count": 734,
     "metadata": {},
     "output_type": "execute_result"
    }
   ],
   "source": [
    "sklearn.metrics.f1_score(y_test, y_pred)"
   ]
  },
  {
   "cell_type": "markdown",
   "metadata": {},
   "source": [
    "# XGBoost\n"
   ]
  },
  {
   "cell_type": "code",
   "execution_count": 691,
   "metadata": {},
   "outputs": [
    {
     "name": "stdout",
     "output_type": "stream",
     "text": [
      "Feature Importances :  [0.01851116 0.04261196 0.03152002 0.03971554 0.03757512 0.05051104\n",
      " 0.03846428 0.08102936 0.01646645 0.02296581 0.         0.02457738\n",
      " 0.08338779 0.         0.19139107 0.32127306]\n"
     ]
    },
    {
     "data": {
      "image/png": "[encoded data removed]",
      "text/plain": [
       "<Figure size 432x288 with 1 Axes>"
      ]
     },
     "metadata": {
      "needs_background": "light"
     },
     "output_type": "display_data"
    }
   ],
   "source": [
    "from xgboost import XGBClassifier\n",
    "from xgboost import plot_importance\n",
    "\n",
    "# fit model to training data\n",
    "xgb_model = XGBClassifier(random_state = 0 )\n",
    "xgb_model.fit(x_train, y_train)\n",
    "\n",
    "print(\"Feature Importances : \", xgb_model.feature_importances_)\n",
    "\n",
    "# plot feature importance\n",
    "plot_importance(xgb_model)\n",
    "plt.show()"
   ]
  },
  {
   "cell_type": "code",
   "execution_count": 692,
   "metadata": {},
   "outputs": [
    {
     "data": {
      "text/plain": [
       "XGBClassifier(base_score=0.5, booster='gbtree', colsample_bylevel=1,\n",
       "              colsample_bynode=1, colsample_bytree=1, gamma=0, gpu_id=-1,\n",
       "              importance_type='gain', interaction_constraints='',\n",
       "              learning_rate=0.300000012, max_delta_step=0, max_depth=6,\n",
       "              min_child_weight=1, missing=nan, monotone_constraints='()',\n",
       "              n_estimators=100, n_jobs=0, num_parallel_tree=1,\n",
       "              objective='binary:logistic', random_state=0, reg_alpha=0,\n",
       "              reg_lambda=1, scale_pos_weight=1, subsample=1,\n",
       "              tree_method='exact', validate_parameters=1, verbosity=None)"
      ]
     },
     "execution_count": 692,
     "metadata": {},
     "output_type": "execute_result"
    }
   ],
   "source": [
    "selection = SelectFromModel(xgb_model)\n",
    "selection.fit(x_train, y_train)\n",
    "\n",
    "# Transform the train and test features\n",
    "select_X_train = selection.transform(x_train)\n",
    "select_X_test = selection.transform(x_test) \n",
    "\n",
    "# train model\n",
    "selection_model = XGBClassifier()\n",
    "selection_model.fit(select_X_train, y_train)"
   ]
  },
  {
   "cell_type": "code",
   "execution_count": 693,
   "metadata": {},
   "outputs": [
    {
     "name": "stdout",
     "output_type": "stream",
     "text": [
      "XGB Baseline Model Accuracy: 0.7727928637019547\n",
      "XGB Baseline Model F1 Score: 0.8280381254964257\n"
     ]
    }
   ],
   "source": [
    "y_pred = xgb_model.predict(x_test)\n",
    "\n",
    "xgb_ac = accuracy_score(y_test, y_pred)\n",
    "xgb_fscore = f1_score(y_test ,y_pred)\n",
    "\n",
    "print(\"XGB Baseline Model Accuracy:\", xgb_ac)\n",
    "print(\"XGB Baseline Model F1 Score:\", xgb_fscore)"
   ]
  },
  {
   "cell_type": "markdown",
   "metadata": {},
   "source": [
    "# Taking the test dataset"
   ]
  },
  {
   "cell_type": "code",
   "execution_count": 694,
   "metadata": {},
   "outputs": [],
   "source": [
    "test_new = pd.read_csv('https://raw.githubusercontent.com/dphi-official/Datasets/master/pharma_data/Testing_set_begs.csv')"
   ]
  },
  {
   "cell_type": "code",
   "execution_count": 695,
   "metadata": {},
   "outputs": [
    {
     "data": {
      "text/html": [
       "<div>\n",
       "<style scoped>\n",
       "    .dataframe tbody tr th:only-of-type {\n",
       "        vertical-align: middle;\n",
       "    }\n",
       "\n",
       "    .dataframe tbody tr th {\n",
       "        vertical-align: top;\n",
       "    }\n",
       "\n",
       "    .dataframe thead th {\n",
       "        text-align: right;\n",
       "    }\n",
       "</style>\n",
       "<table border=\"1\" class=\"dataframe\">\n",
       "  <thead>\n",
       "    <tr style=\"text-align: right;\">\n",
       "      <th></th>\n",
       "      <th>ID_Patient_Care_Situation</th>\n",
       "      <th>Diagnosed_Condition</th>\n",
       "      <th>Patient_ID</th>\n",
       "      <th>Treated_with_drugs</th>\n",
       "      <th>Patient_Age</th>\n",
       "      <th>Patient_Body_Mass_Index</th>\n",
       "      <th>Patient_Smoker</th>\n",
       "      <th>Patient_Rural_Urban</th>\n",
       "      <th>Patient_mental_condition</th>\n",
       "      <th>A</th>\n",
       "      <th>B</th>\n",
       "      <th>C</th>\n",
       "      <th>D</th>\n",
       "      <th>E</th>\n",
       "      <th>F</th>\n",
       "      <th>Z</th>\n",
       "      <th>Number_of_prev_cond</th>\n",
       "    </tr>\n",
       "  </thead>\n",
       "  <tbody>\n",
       "    <tr>\n",
       "      <th>0</th>\n",
       "      <td>19150</td>\n",
       "      <td>40</td>\n",
       "      <td>3709</td>\n",
       "      <td>DX3</td>\n",
       "      <td>16</td>\n",
       "      <td>29.443894</td>\n",
       "      <td>NO</td>\n",
       "      <td>RURAL</td>\n",
       "      <td>Stable</td>\n",
       "      <td>1.0</td>\n",
       "      <td>0.0</td>\n",
       "      <td>0.0</td>\n",
       "      <td>0.0</td>\n",
       "      <td>1.0</td>\n",
       "      <td>0.0</td>\n",
       "      <td>0.0</td>\n",
       "      <td>2.0</td>\n",
       "    </tr>\n",
       "    <tr>\n",
       "      <th>1</th>\n",
       "      <td>23216</td>\n",
       "      <td>52</td>\n",
       "      <td>986</td>\n",
       "      <td>DX6</td>\n",
       "      <td>24</td>\n",
       "      <td>26.836321</td>\n",
       "      <td>NO</td>\n",
       "      <td>URBAN</td>\n",
       "      <td>Stable</td>\n",
       "      <td>1.0</td>\n",
       "      <td>1.0</td>\n",
       "      <td>0.0</td>\n",
       "      <td>0.0</td>\n",
       "      <td>0.0</td>\n",
       "      <td>0.0</td>\n",
       "      <td>0.0</td>\n",
       "      <td>2.0</td>\n",
       "    </tr>\n",
       "    <tr>\n",
       "      <th>2</th>\n",
       "      <td>11890</td>\n",
       "      <td>50</td>\n",
       "      <td>11821</td>\n",
       "      <td>DX4 DX5</td>\n",
       "      <td>63</td>\n",
       "      <td>25.523280</td>\n",
       "      <td>NO</td>\n",
       "      <td>RURAL</td>\n",
       "      <td>Stable</td>\n",
       "      <td>1.0</td>\n",
       "      <td>0.0</td>\n",
       "      <td>0.0</td>\n",
       "      <td>0.0</td>\n",
       "      <td>1.0</td>\n",
       "      <td>0.0</td>\n",
       "      <td>0.0</td>\n",
       "      <td>2.0</td>\n",
       "    </tr>\n",
       "    <tr>\n",
       "      <th>3</th>\n",
       "      <td>7149</td>\n",
       "      <td>32</td>\n",
       "      <td>3292</td>\n",
       "      <td>DX6</td>\n",
       "      <td>42</td>\n",
       "      <td>27.171155</td>\n",
       "      <td>NO</td>\n",
       "      <td>URBAN</td>\n",
       "      <td>Stable</td>\n",
       "      <td>1.0</td>\n",
       "      <td>0.0</td>\n",
       "      <td>1.0</td>\n",
       "      <td>0.0</td>\n",
       "      <td>1.0</td>\n",
       "      <td>0.0</td>\n",
       "      <td>0.0</td>\n",
       "      <td>3.0</td>\n",
       "    </tr>\n",
       "    <tr>\n",
       "      <th>4</th>\n",
       "      <td>22845</td>\n",
       "      <td>20</td>\n",
       "      <td>9959</td>\n",
       "      <td>DX3</td>\n",
       "      <td>50</td>\n",
       "      <td>25.556192</td>\n",
       "      <td>NO</td>\n",
       "      <td>RURAL</td>\n",
       "      <td>Stable</td>\n",
       "      <td>1.0</td>\n",
       "      <td>0.0</td>\n",
       "      <td>0.0</td>\n",
       "      <td>0.0</td>\n",
       "      <td>0.0</td>\n",
       "      <td>0.0</td>\n",
       "      <td>0.0</td>\n",
       "      <td>1.0</td>\n",
       "    </tr>\n",
       "  </tbody>\n",
       "</table>\n",
       "</div>"
      ],
      "text/plain": [
       "   ID_Patient_Care_Situation  Diagnosed_Condition  Patient_ID  \\\n",
       "0                      19150                   40        3709   \n",
       "1                      23216                   52         986   \n",
       "2                      11890                   50       11821   \n",
       "3                       7149                   32        3292   \n",
       "4                      22845                   20        9959   \n",
       "\n",
       "  Treated_with_drugs  Patient_Age  Patient_Body_Mass_Index Patient_Smoker  \\\n",
       "0               DX3            16                29.443894             NO   \n",
       "1                DX6           24                26.836321             NO   \n",
       "2           DX4 DX5            63                25.523280             NO   \n",
       "3                DX6           42                27.171155             NO   \n",
       "4               DX3            50                25.556192             NO   \n",
       "\n",
       "  Patient_Rural_Urban Patient_mental_condition    A    B    C    D    E    F  \\\n",
       "0               RURAL                   Stable  1.0  0.0  0.0  0.0  1.0  0.0   \n",
       "1               URBAN                   Stable  1.0  1.0  0.0  0.0  0.0  0.0   \n",
       "2               RURAL                   Stable  1.0  0.0  0.0  0.0  1.0  0.0   \n",
       "3               URBAN                   Stable  1.0  0.0  1.0  0.0  1.0  0.0   \n",
       "4               RURAL                   Stable  1.0  0.0  0.0  0.0  0.0  0.0   \n",
       "\n",
       "     Z  Number_of_prev_cond  \n",
       "0  0.0                  2.0  \n",
       "1  0.0                  2.0  \n",
       "2  0.0                  2.0  \n",
       "3  0.0                  3.0  \n",
       "4  0.0                  1.0  "
      ]
     },
     "execution_count": 695,
     "metadata": {},
     "output_type": "execute_result"
    }
   ],
   "source": [
    "test_new.head()"
   ]
  },
  {
   "cell_type": "code",
   "execution_count": 696,
   "metadata": {},
   "outputs": [],
   "source": [
    "cols = ['Patient_ID', 'Treated_with_drugs', 'Patient_mental_condition']\n",
    "test_new = test_new.drop(cols, axis=1)"
   ]
  },
  {
   "cell_type": "code",
   "execution_count": 697,
   "metadata": {},
   "outputs": [],
   "source": [
    "dummies = []\n",
    "\n",
    "cols = ['Patient_Rural_Urban', 'Patient_Smoker']\n",
    "for col in cols:\n",
    "    dummies.append(pd.get_dummies(test_new[col]))\n",
    "test_dummies = pd.concat(dummies, axis=1)"
   ]
  },
  {
   "cell_type": "code",
   "execution_count": 698,
   "metadata": {},
   "outputs": [],
   "source": [
    "test_new = pd.concat((test_new,test_dummies), axis=1)"
   ]
  },
  {
   "cell_type": "code",
   "execution_count": 699,
   "metadata": {},
   "outputs": [],
   "source": [
    "test_new = test_new.drop(['Patient_Rural_Urban', 'Patient_Smoker'], axis=1)"
   ]
  },
  {
   "cell_type": "code",
   "execution_count": 700,
   "metadata": {},
   "outputs": [
    {
     "data": {
      "text/html": [
       "<div>\n",
       "<style scoped>\n",
       "    .dataframe tbody tr th:only-of-type {\n",
       "        vertical-align: middle;\n",
       "    }\n",
       "\n",
       "    .dataframe tbody tr th {\n",
       "        vertical-align: top;\n",
       "    }\n",
       "\n",
       "    .dataframe thead th {\n",
       "        text-align: right;\n",
       "    }\n",
       "</style>\n",
       "<table border=\"1\" class=\"dataframe\">\n",
       "  <thead>\n",
       "    <tr style=\"text-align: right;\">\n",
       "      <th></th>\n",
       "      <th>ID_Patient_Care_Situation</th>\n",
       "      <th>Diagnosed_Condition</th>\n",
       "      <th>Patient_Age</th>\n",
       "      <th>Patient_Body_Mass_Index</th>\n",
       "      <th>A</th>\n",
       "      <th>B</th>\n",
       "      <th>C</th>\n",
       "      <th>D</th>\n",
       "      <th>E</th>\n",
       "      <th>F</th>\n",
       "      <th>Z</th>\n",
       "      <th>Number_of_prev_cond</th>\n",
       "      <th>RURAL</th>\n",
       "      <th>URBAN</th>\n",
       "      <th>NO</th>\n",
       "      <th>YES</th>\n",
       "    </tr>\n",
       "  </thead>\n",
       "  <tbody>\n",
       "    <tr>\n",
       "      <th>0</th>\n",
       "      <td>19150</td>\n",
       "      <td>40</td>\n",
       "      <td>16</td>\n",
       "      <td>29.443894</td>\n",
       "      <td>1.0</td>\n",
       "      <td>0.0</td>\n",
       "      <td>0.0</td>\n",
       "      <td>0.0</td>\n",
       "      <td>1.0</td>\n",
       "      <td>0.0</td>\n",
       "      <td>0.0</td>\n",
       "      <td>2.0</td>\n",
       "      <td>1</td>\n",
       "      <td>0</td>\n",
       "      <td>1</td>\n",
       "      <td>0</td>\n",
       "    </tr>\n",
       "    <tr>\n",
       "      <th>1</th>\n",
       "      <td>23216</td>\n",
       "      <td>52</td>\n",
       "      <td>24</td>\n",
       "      <td>26.836321</td>\n",
       "      <td>1.0</td>\n",
       "      <td>1.0</td>\n",
       "      <td>0.0</td>\n",
       "      <td>0.0</td>\n",
       "      <td>0.0</td>\n",
       "      <td>0.0</td>\n",
       "      <td>0.0</td>\n",
       "      <td>2.0</td>\n",
       "      <td>0</td>\n",
       "      <td>1</td>\n",
       "      <td>1</td>\n",
       "      <td>0</td>\n",
       "    </tr>\n",
       "    <tr>\n",
       "      <th>2</th>\n",
       "      <td>11890</td>\n",
       "      <td>50</td>\n",
       "      <td>63</td>\n",
       "      <td>25.523280</td>\n",
       "      <td>1.0</td>\n",
       "      <td>0.0</td>\n",
       "      <td>0.0</td>\n",
       "      <td>0.0</td>\n",
       "      <td>1.0</td>\n",
       "      <td>0.0</td>\n",
       "      <td>0.0</td>\n",
       "      <td>2.0</td>\n",
       "      <td>1</td>\n",
       "      <td>0</td>\n",
       "      <td>1</td>\n",
       "      <td>0</td>\n",
       "    </tr>\n",
       "    <tr>\n",
       "      <th>3</th>\n",
       "      <td>7149</td>\n",
       "      <td>32</td>\n",
       "      <td>42</td>\n",
       "      <td>27.171155</td>\n",
       "      <td>1.0</td>\n",
       "      <td>0.0</td>\n",
       "      <td>1.0</td>\n",
       "      <td>0.0</td>\n",
       "      <td>1.0</td>\n",
       "      <td>0.0</td>\n",
       "      <td>0.0</td>\n",
       "      <td>3.0</td>\n",
       "      <td>0</td>\n",
       "      <td>1</td>\n",
       "      <td>1</td>\n",
       "      <td>0</td>\n",
       "    </tr>\n",
       "    <tr>\n",
       "      <th>4</th>\n",
       "      <td>22845</td>\n",
       "      <td>20</td>\n",
       "      <td>50</td>\n",
       "      <td>25.556192</td>\n",
       "      <td>1.0</td>\n",
       "      <td>0.0</td>\n",
       "      <td>0.0</td>\n",
       "      <td>0.0</td>\n",
       "      <td>0.0</td>\n",
       "      <td>0.0</td>\n",
       "      <td>0.0</td>\n",
       "      <td>1.0</td>\n",
       "      <td>1</td>\n",
       "      <td>0</td>\n",
       "      <td>1</td>\n",
       "      <td>0</td>\n",
       "    </tr>\n",
       "  </tbody>\n",
       "</table>\n",
       "</div>"
      ],
      "text/plain": [
       "   ID_Patient_Care_Situation  Diagnosed_Condition  Patient_Age  \\\n",
       "0                      19150                   40           16   \n",
       "1                      23216                   52           24   \n",
       "2                      11890                   50           63   \n",
       "3                       7149                   32           42   \n",
       "4                      22845                   20           50   \n",
       "\n",
       "   Patient_Body_Mass_Index    A    B    C    D    E    F    Z  \\\n",
       "0                29.443894  1.0  0.0  0.0  0.0  1.0  0.0  0.0   \n",
       "1                26.836321  1.0  1.0  0.0  0.0  0.0  0.0  0.0   \n",
       "2                25.523280  1.0  0.0  0.0  0.0  1.0  0.0  0.0   \n",
       "3                27.171155  1.0  0.0  1.0  0.0  1.0  0.0  0.0   \n",
       "4                25.556192  1.0  0.0  0.0  0.0  0.0  0.0  0.0   \n",
       "\n",
       "   Number_of_prev_cond  RURAL  URBAN  NO  YES  \n",
       "0                  2.0      1      0   1    0  \n",
       "1                  2.0      0      1   1    0  \n",
       "2                  2.0      1      0   1    0  \n",
       "3                  3.0      0      1   1    0  \n",
       "4                  1.0      1      0   1    0  "
      ]
     },
     "execution_count": 700,
     "metadata": {},
     "output_type": "execute_result"
    }
   ],
   "source": [
    "test_new.head()"
   ]
  },
  {
   "cell_type": "code",
   "execution_count": 643,
   "metadata": {},
   "outputs": [
    {
     "name": "stderr",
     "output_type": "stream",
     "text": [
      "C:\\Users\\HP\\Anaconda3\\lib\\site-packages\\sklearn\\ensemble\\forest.py:245: FutureWarning: The default value of n_estimators will change from 10 in version 0.20 to 100 in 0.22.\n",
      "  \"10 in version 0.20 to 100 in 0.22.\", FutureWarning)\n"
     ]
    },
    {
     "data": {
      "text/plain": [
       "RandomForestClassifier(bootstrap=True, class_weight=None, criterion='gini',\n",
       "                       max_depth=None, max_features='auto', max_leaf_nodes=None,\n",
       "                       min_impurity_decrease=0.0, min_impurity_split=None,\n",
       "                       min_samples_leaf=1, min_samples_split=2,\n",
       "                       min_weight_fraction_leaf=0.0, n_estimators=10,\n",
       "                       n_jobs=None, oob_score=False, random_state=None,\n",
       "                       verbose=0, warm_start=False)"
      ]
     },
     "execution_count": 643,
     "metadata": {},
     "output_type": "execute_result"
    }
   ],
   "source": [
    "#x is X_train and y is Y_train and applying Random forest.\n",
    "\n",
    "rfc = RandomForestClassifier()\n",
    "rfc.fit(x, y)"
   ]
  },
  {
   "cell_type": "code",
   "execution_count": 644,
   "metadata": {},
   "outputs": [],
   "source": [
    "y_pred1 = rfc.predict(test_new)"
   ]
  },
  {
   "cell_type": "code",
   "execution_count": 645,
   "metadata": {},
   "outputs": [],
   "source": [
    "Survived_1_year = y_pred1"
   ]
  },
  {
   "cell_type": "code",
   "execution_count": 449,
   "metadata": {},
   "outputs": [
    {
     "data": {
      "text/plain": [
       "array([0, 1, 1, ..., 1, 0, 1], dtype=int64)"
      ]
     },
     "execution_count": 449,
     "metadata": {},
     "output_type": "execute_result"
    }
   ],
   "source": [
    "Survived_1_year"
   ]
  },
  {
   "cell_type": "code",
   "execution_count": null,
   "metadata": {},
   "outputs": [],
   "source": [
    "res = pd.DataFrame(Survived_1_year) #preditcions are nothing but the final predictions of your model on input features of your new unseen test data\n",
    "res.index = test_new.index # its important for comparison. Here \"test_new\" is your new test dataset\n",
    "res.columns = [\"prediction\"]\n",
    "res.to_csv(r\"C:\\Users\\HP\\Desktop\\Dphi\\Final Assignment\\prediction_results_HP.csv\")"
   ]
  },
  {
   "cell_type": "code",
   "execution_count": 735,
   "metadata": {},
   "outputs": [],
   "source": [
    "#task find the results for the given params\n",
    "grid = gridfunc(classifier, parameter, x, y)"
   ]
  },
  {
   "cell_type": "code",
   "execution_count": 736,
   "metadata": {},
   "outputs": [
    {
     "data": {
      "text/plain": [
       "RandomForestClassifier(bootstrap=True, class_weight=None, criterion='gini',\n",
       "                       max_depth=6, max_features='log2', max_leaf_nodes=None,\n",
       "                       min_impurity_decrease=0.0, min_impurity_split=None,\n",
       "                       min_samples_leaf=3, min_samples_split=2,\n",
       "                       min_weight_fraction_leaf=0.0, n_estimators=50,\n",
       "                       n_jobs=None, oob_score=False, random_state=9, verbose=0,\n",
       "                       warm_start=False)"
      ]
     },
     "execution_count": 736,
     "metadata": {},
     "output_type": "execute_result"
    }
   ],
   "source": [
    "# Set the clf to the best combination of parameters\n",
    "clf = grid.best_estimator_\n",
    "    \n",
    "# Fit the best algorithm to the data. \n",
    "clf.fit(x, y)"
   ]
  },
  {
   "cell_type": "code",
   "execution_count": 737,
   "metadata": {},
   "outputs": [],
   "source": [
    "Survived_1_year = clf.predict(test_new)"
   ]
  },
  {
   "cell_type": "code",
   "execution_count": 738,
   "metadata": {},
   "outputs": [],
   "source": [
    "res = pd.DataFrame(Survived_1_year) #preditcions are nothing but the final predictions of your model on input features of your new unseen test data\n",
    "res.index = test_new.index # its important for comparison. Here \"test_new\" is your new test dataset\n",
    "res.columns = [\"prediction\"]\n",
    "res.to_csv(r\"C:\\Users\\HP\\Desktop\\Dphi\\Final Assignment\\a_prediction_results_HP.csv\") "
   ]
  },
  {
   "cell_type": "markdown",
   "metadata": {},
   "source": [
    "# XGBoost"
   ]
  },
  {
   "cell_type": "code",
   "execution_count": 701,
   "metadata": {},
   "outputs": [
    {
     "name": "stdout",
     "output_type": "stream",
     "text": [
      "Feature Importances :  [0.01621051 0.04324719 0.03122553 0.04017736 0.03591002 0.03104739\n",
      " 0.05619692 0.0912392  0.01640338 0.02922633 0.         0.02574459\n",
      " 0.09031542 0.         0.15213531 0.34092084]\n"
     ]
    },
    {
     "data": {
      "image/png": "[encoded data removed]",
      "text/plain": [
       "<Figure size 432x288 with 1 Axes>"
      ]
     },
     "metadata": {
      "needs_background": "light"
     },
     "output_type": "display_data"
    }
   ],
   "source": [
    "# fit model to training data\n",
    "xgb_model = XGBClassifier(random_state = 0 )\n",
    "xgb_model.fit(x, y)\n",
    "\n",
    "print(\"Feature Importances : \", xgb_model.feature_importances_)\n",
    "\n",
    "# plot feature importance\n",
    "plot_importance(xgb_model)\n",
    "plt.show()"
   ]
  },
  {
   "cell_type": "code",
   "execution_count": 702,
   "metadata": {},
   "outputs": [
    {
     "data": {
      "text/plain": [
       "XGBClassifier(base_score=0.5, booster='gbtree', colsample_bylevel=1,\n",
       "              colsample_bynode=1, colsample_bytree=1, gamma=0, gpu_id=-1,\n",
       "              importance_type='gain', interaction_constraints='',\n",
       "              learning_rate=0.300000012, max_delta_step=0, max_depth=6,\n",
       "              min_child_weight=1, missing=nan, monotone_constraints='()',\n",
       "              n_estimators=100, n_jobs=0, num_parallel_tree=1,\n",
       "              objective='binary:logistic', random_state=0, reg_alpha=0,\n",
       "              reg_lambda=1, scale_pos_weight=1, subsample=1,\n",
       "              tree_method='exact', validate_parameters=1, verbosity=None)"
      ]
     },
     "execution_count": 702,
     "metadata": {},
     "output_type": "execute_result"
    }
   ],
   "source": [
    "selection = SelectFromModel(xgb_model)\n",
    "selection.fit(x, y)\n",
    "\n",
    "# Transform the train and test features\n",
    "select_X_train = selection.transform(x)\n",
    "select_X_test = selection.transform(test_new) \n",
    "\n",
    "# train model\n",
    "selection_model = XGBClassifier()\n",
    "selection_model.fit(select_X_train, y)"
   ]
  },
  {
   "cell_type": "code",
   "execution_count": 703,
   "metadata": {},
   "outputs": [],
   "source": [
    "Survived_1_year = xgb_model.predict(test_new)"
   ]
  },
  {
   "cell_type": "code",
   "execution_count": 704,
   "metadata": {},
   "outputs": [],
   "source": [
    "res = pd.DataFrame(Survived_1_year) #preditcions are nothing but the final predictions of your model on input features of your new unseen test data\n",
    "res.index = test_new.index # its important for comparison. Here \"test_new\" is your new test dataset\n",
    "res.columns = [\"prediction\"]\n",
    "res.to_csv(r\"C:\\Users\\HP\\Desktop\\Dphi\\Final Assignment\\new_prediction_results_HP.csv\")"
   ]
  },
  {
   "cell_type": "code",
   "execution_count": null,
   "metadata": {},
   "outputs": [],
   "source": []
  }
 ],
 "metadata": {
  "kernelspec": {
   "display_name": "Python 3",
   "language": "python",
   "name": "python3"
  },
  "language_info": {
   "codemirror_mode": {
    "name": "ipython",
    "version": 3
   },
   "file_extension": ".py",
   "mimetype": "text/x-python",
   "name": "python",
   "nbconvert_exporter": "python",
   "pygments_lexer": "ipython3",
   "version": "3.7.3"
  }
 },
 "nbformat": 4,
 "nbformat_minor": 2
}
